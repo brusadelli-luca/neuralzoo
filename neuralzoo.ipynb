{
 "cells": [
  {
   "cell_type": "markdown",
   "id": "7e578d72",
   "metadata": {},
   "source": [
    "# Neural Zoo"
   ]
  },
  {
   "cell_type": "code",
   "execution_count": 1,
   "id": "21d25525",
   "metadata": {},
   "outputs": [],
   "source": [
    "import numpy as np\n",
    "from functions import unpickle, filtre, info, display_img"
   ]
  },
  {
   "cell_type": "code",
   "execution_count": 2,
   "id": "b639f6d8",
   "metadata": {},
   "outputs": [],
   "source": [
    "batch_1 = unpickle('cifar-10-batches-py\\data_batch_1')\n",
    "batch_2 = unpickle('cifar-10-batches-py\\data_batch_2')\n",
    "batch_3 = unpickle('cifar-10-batches-py\\data_batch_3')\n",
    "batch_4 = unpickle('cifar-10-batches-py\\data_batch_4')\n",
    "batch_5 = unpickle('cifar-10-batches-py\\data_batch_5')"
   ]
  },
  {
   "cell_type": "code",
   "execution_count": 3,
   "id": "41b5f47d",
   "metadata": {},
   "outputs": [],
   "source": [
    "dataset = {\n",
    "    b'batch_label': b'full training dataset',\n",
    "    b'labels': batch_1[b'labels'] + batch_2[b'labels'] + batch_3[b'labels'] + batch_4[b'labels'] + batch_5[b'labels'],\n",
    "    b'data': np.asarray(batch_1[b'data'].tolist() + batch_2[b'data'].tolist() + batch_3[b'data'].tolist() + batch_4[b'data'].tolist() + batch_5[b'data'].tolist(), dtype=np.uint8),\n",
    "    b'filenames': batch_1[b'filenames'] + batch_2[b'filenames'] + batch_3[b'filenames'] + batch_4[b'filenames'] + batch_5[b'filenames']}"
   ]
  },
  {
   "cell_type": "code",
   "execution_count": 4,
   "id": "9b436e2b",
   "metadata": {},
   "outputs": [],
   "source": [
    "animals = [2, 3, 4, 5, 6, 7]"
   ]
  },
  {
   "cell_type": "code",
   "execution_count": 5,
   "id": "ac0da084",
   "metadata": {},
   "outputs": [
    {
     "name": "stdout",
     "output_type": "stream",
     "text": [
      "dataset label : b'full training dataset'\n",
      "labels len : 50000\n",
      "data len : 50000\n",
      "filenames len : 50000\n"
     ]
    }
   ],
   "source": [
    "info(dataset)"
   ]
  },
  {
   "cell_type": "code",
   "execution_count": 6,
   "id": "502fa107",
   "metadata": {},
   "outputs": [],
   "source": [
    "dataset = filtre(dataset, animals)"
   ]
  },
  {
   "cell_type": "code",
   "execution_count": 7,
   "id": "32130d85",
   "metadata": {},
   "outputs": [],
   "source": [
    "#dataset"
   ]
  },
  {
   "cell_type": "code",
   "execution_count": 8,
   "id": "8ea86285",
   "metadata": {},
   "outputs": [
    {
     "name": "stdout",
     "output_type": "stream",
     "text": [
      "dataset label : b'full filtered training dataset'\n",
      "labels len : 30000\n",
      "data len : 30000\n",
      "filenames len : 30000\n"
     ]
    }
   ],
   "source": [
    "info(dataset)"
   ]
  },
  {
   "cell_type": "code",
   "execution_count": 9,
   "id": "20376483",
   "metadata": {},
   "outputs": [
    {
     "data": {
      "image/png": "[encoded data removed]",
      "text/plain": [
       "<Figure size 640x480 with 1 Axes>"
      ]
     },
     "metadata": {},
     "output_type": "display_data"
    }
   ],
   "source": [
    "display_img(dataset, 100)"
   ]
  },
  {
   "cell_type": "code",
   "execution_count": null,
   "id": "e881e7d0",
   "metadata": {},
   "outputs": [],
   "source": []
  }
 ],
 "metadata": {
  "kernelspec": {
   "display_name": "Python 3 (ipykernel)",
   "language": "python",
   "name": "python3"
  },
  "language_info": {
   "codemirror_mode": {
    "name": "ipython",
    "version": 3
   },
   "file_extension": ".py",
   "mimetype": "text/x-python",
   "name": "python",
   "nbconvert_exporter": "python",
   "pygments_lexer": "ipython3",
   "version": "3.9.13"
  }
 },
 "nbformat": 4,
 "nbformat_minor": 5
}
