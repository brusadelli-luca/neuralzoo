{
 "cells": [
  {
   "cell_type": "markdown",
   "id": "92ed5b83",
   "metadata": {},
   "source": [
    "# Veille sur les méthodes de Deep Learning"
   ]
  },
  {
   "cell_type": "markdown",
   "id": "20cacfd8",
   "metadata": {},
   "source": [
    "## Perceptron Multicouches - Multilayer Perceptron"
   ]
  },
  {
   "cell_type": "markdown",
   "id": "1a30c217",
   "metadata": {},
   "source": [
    "1. Réalisez une veille sur le Perceptron Multicouches et expliquez son architecture\n",
    "(couches d’entrée, couches cachées, couches de sortie, couches denses, etc).\n",
    "Quels sont ses hyperparamètres ?"
   ]
  },
  {
   "cell_type": "markdown",
   "id": "54602b57",
   "metadata": {},
   "source": [
    "*Couche entrée = valeurs\n",
    "\n",
    "*Couche cachée = couche intermédiaire (dense, pooling, etc)\n",
    "\n",
    "*Couche dense = couche cachée de base avec poids, fonction d’activation, biais\n",
    "\n",
    "*Couche de sortie = résultat"
   ]
  },
  {
   "cell_type": "markdown",
   "id": "1cb8d24b",
   "metadata": {},
   "source": [
    "Hyperparamètres :\n",
    "\n",
    "•\tNombre de couches\n",
    "\n",
    "•\tNombre de neurones par couche\n",
    "\n",
    "•\tFonction d’activation\n",
    "\n",
    "•\tsolver — the solver to use for the weight optimization. The default is ‘adam’, which works well on most data sets. The behavior of the various optimizers will be explained in a future article.\n",
    "\n",
    "•\talpha — the L2 regularization coefficient (defaults to 0.0001)\n",
    "\n",
    "•\tbatch_size — the size of the mini-batches used for training (defaults to 200)\n",
    "\n",
    "•\tlearning_rate — learning rate schedule for weight updates (defaults to ‘constant’)\n",
    "\n",
    "•\tlearning_rate_init — the initial learning rate used (defaults to 0.001)\n",
    "\n",
    "•\tearly_stopping — whether to stop the training when the validation score is not improving (defaults to False)\n",
    "\n",
    "•\tvalidation_fraction — the proportion of the training set to set aside for validation (defaults to 0.1)"
   ]
  },
  {
   "cell_type": "markdown",
   "id": "56955f1c",
   "metadata": {},
   "source": [
    "2. Expliquez le choix de l’architecture du PMC en fonction de la problématique de\n",
    "classification ou de régression."
   ]
  },
  {
   "cell_type": "markdown",
   "id": "58292add",
   "metadata": {},
   "source": [
    "La couche de sortie a 1 paramètre pour la régression et N paramètres pour une classification à N classes."
   ]
  },
  {
   "cell_type": "markdown",
   "id": "30509017",
   "metadata": {},
   "source": [
    "3. Définissez les termes suivants : Fonction d’activation, Propagation,\n",
    "rétropropagation, Loss-function, Descente de gradient, Vanishing gradients."
   ]
  },
  {
   "cell_type": "markdown",
   "id": "009a3af6",
   "metadata": {},
   "source": [
    "•\tFonction d’activation : transforme le signal d’une couche à l’autre\n",
    "\n",
    "•\tPropagation : passage du signal d’une couche à l’autre de l’entrée vers la sortie grâce aux fonctions d’activation\n",
    "\n",
    "•\tRetropropagation : algorithme d'optimisation permettant d'ajuster les paramètres d'un réseau de neurones multicouches pour mettre en correspondance des entrées et des sorties référencées dans une base d'apprentissage\n",
    "\n",
    "•\tLoss-function : permet de déterminer la performance du modèle en comparant les sorties aux labels\n",
    "\n",
    "•\tDescente de gradient : permet de minimiser la fonction erreur avec les dérivées partielles (algorithme d’apprentissage)\n",
    "\n",
    "•\tVanishing gradients : phénomène de diminution importante du gradient qui empêche de trouver le minimum. Le batch normalization permet de résoudre ce souci."
   ]
  },
  {
   "cell_type": "markdown",
   "id": "a618b123",
   "metadata": {},
   "source": [
    "4. Qu’est ce qu’une fonction d’activation ? Donnez des exemples."
   ]
  },
  {
   "cell_type": "markdown",
   "id": "653696c5",
   "metadata": {},
   "source": [
    "Fonction d’activation : transforme les signaux émis par les neurones de la couche précédente à l'aide d'une fonction mathématique :\n",
    "\n",
    "•\tIdentité : L'activation du neurone est transmise directement en sortie\n",
    "    \n",
    "•\tSigmoïdale logistique :\tUne courbe en \"S\"\n",
    "\n",
    "•\tTangente hyperbolique : Produit généralement de meilleurs résultats que la fonction logistique en raison de sa symétrie. Idéale pour les perceptrons multicouches, en particulier, pour les couches cachées\n",
    "\n",
    "•\tExponentielle\n",
    "\n",
    "•\tSinus : S'utilise éventuellement si les données sont distribuées radialement. N'est pas utilisé par défaut.\n",
    "\n",
    "•\tSoftmax : Essentiellement utilisé (mais pas uniquement) pour des tâches de classification. Permet de construire des réseaux de neurones avec plusieurs sorties normalisées ce qui le rend particulièrement adapté à la création de classifications par les réseaux de neurones avec des sorties probabilistes.\n",
    "\n",
    "•\tGaussienne"
   ]
  },
  {
   "cell_type": "markdown",
   "id": "9d397fb6",
   "metadata": {},
   "source": [
    "5. Définissez et différenciez les notions d’Epochs, d’Iterations et de Batch size."
   ]
  },
  {
   "cell_type": "markdown",
   "id": "a43ae8cf",
   "metadata": {},
   "source": [
    "•\tEpoch : période d’unique propagation + rétropropagation de tout le dataset à travers le réseau.\n",
    "\n",
    "•\tItérations : nombre de batch pour 1 epoch\n",
    "\n",
    "•\tBatch-size : nombre d’exemples de train du dataset qui passent simultanémant dans le réseau"
   ]
  },
  {
   "cell_type": "markdown",
   "id": "35057473",
   "metadata": {},
   "source": [
    "6. Qu’est ce que l’hyper-paramètre learning rate ? Quelles sont les conséquences\n",
    "d’un learning rate trop bas ou trop élevé ?"
   ]
  },
  {
   "cell_type": "markdown",
   "id": "5ae5afc2",
   "metadata": {},
   "source": [
    "Hyperparamètre qui sert de coefficient d’évolution de la descente du gradient.\n",
    "\n",
    "Si trop bas : trop de temps de calcul ou on n’atteint pas la convergence.\n",
    "\n",
    "Si trop haut, on risque de louper la convergence."
   ]
  },
  {
   "cell_type": "markdown",
   "id": "de75ffde",
   "metadata": {},
   "source": [
    "7. Définissez la Batch normalization et argumentez son utilisation."
   ]
  },
  {
   "cell_type": "markdown",
   "id": "523985f3",
   "metadata": {},
   "source": [
    "Méthode de normalisation des valeurs d’entrée des couches en centrant leur répartition et remettant les valeurs à l’échelle.\n",
    "\n",
    "Facilite l’apprentissage car réduit les outliers et évite le vanishing gradient."
   ]
  },
  {
   "cell_type": "markdown",
   "id": "d6b54772",
   "metadata": {},
   "source": [
    "8. Qu'est-ce que l'algorithme d'optimisation d'Adam ?"
   ]
  },
  {
   "cell_type": "markdown",
   "id": "7fa85a45",
   "metadata": {},
   "source": [
    "Algorithme d’optimisation qui peut remplacer la descente de gradient (adaptive moment estimation)\n",
    "\n",
    "Learning rate différent par paramètre et propagation RMS."
   ]
  },
  {
   "cell_type": "markdown",
   "id": "3e5e12ee",
   "metadata": {},
   "source": [
    "9. Définissez simplement ce qu’est un Perceptron multicouches."
   ]
  },
  {
   "cell_type": "markdown",
   "id": "0906cef4",
   "metadata": {},
   "source": [
    "C’est une suite de perceptron réseau de neurones avec plusieurs ensembles."
   ]
  },
  {
   "cell_type": "markdown",
   "id": "fc614250",
   "metadata": {},
   "source": [
    "## Convolutional Neural Network - Réseau neuronal convolutif"
   ]
  },
  {
   "cell_type": "markdown",
   "id": "7871bd2d",
   "metadata": {},
   "source": [
    "1. Réalisez une veille sur les réseaux de neurones artificiels de type convolutifs."
   ]
  },
  {
   "cell_type": "markdown",
   "id": "9a4ef885",
   "metadata": {},
   "source": [
    "•\tCouche d’entrée\n",
    "\n",
    "•\tCouche de convolution\n",
    "\n",
    "•\tCouche de pooling\n",
    "\n",
    "•\tCouche FC Fully Connected\n",
    "\n",
    "Hyper paramètres :\n",
    "\n",
    "•\tDimension du filtre de convolution\n",
    "\n",
    "•\tStride = nombre de pixels de décalage du filtre\n",
    "\n",
    "•\tZero-padding = ajout de zéros ou non au-delà des limites afin de correspondre au filtre + stride"
   ]
  },
  {
   "cell_type": "markdown",
   "id": "68da5453",
   "metadata": {},
   "source": [
    "2. Donnez le principe de fonctionnement d’une couche convolutive. Qu’est ce qu’un\n",
    "filtre de convolution ?"
   ]
  },
  {
   "cell_type": "markdown",
   "id": "fc986f41",
   "metadata": {},
   "source": [
    "La couche convolutive applique un filtre de convolution aux pixels de l’image d’entrée et crée en sortie une feature map."
   ]
  },
  {
   "cell_type": "markdown",
   "id": "d69b63f5",
   "metadata": {},
   "source": [
    "3. Quelle est la fonction d’activation utilisée par un CNN ? Pourquoi est-elle la plus"
   ]
  },
  {
   "cell_type": "markdown",
   "id": "56c2df98",
   "metadata": {},
   "source": [
    "ReLU car :\n",
    "•\tComputation saving\n",
    "•\tSolving the vanishing gradient problem"
   ]
  },
  {
   "cell_type": "markdown",
   "id": "100a9d85",
   "metadata": {},
   "source": [
    "4. Qu’est ce qu’une Feature Map ?"
   ]
  },
  {
   "cell_type": "markdown",
   "id": "db89b113",
   "metadata": {},
   "source": [
    "Sortie de la couche de convolution."
   ]
  },
  {
   "cell_type": "markdown",
   "id": "d49f1eb6",
   "metadata": {},
   "source": [
    "5. Donnez le principe de fonctionnement d’une couche de Pooling. Il existe\n",
    "différentes opérations de Pooling, citez en au moins deux."
   ]
  },
  {
   "cell_type": "markdown",
   "id": "2600eb17",
   "metadata": {},
   "source": [
    "•\tPooling layers are used to reduce the dimensions of the feature maps. Thus, it reduces the number of parameters to learn and the amount of computation performed in the network.\n",
    "\n",
    "•\tThe pooling layer summarises the features present in a region of the feature map generated by a convolution layer. So, further operations are performed on summarised features instead of precisely positioned features generated by the convolution layer. This makes the model more robust to variations in the position of the features in the input image\n",
    "\n",
    "•\tMax pooling\n",
    "\n",
    "•\tAverage pooling\n",
    "\n",
    "•\tGlobal pooling"
   ]
  },
  {
   "cell_type": "markdown",
   "id": "eb0283c8",
   "metadata": {},
   "source": [
    "6. La dernière couche d’un CNN est une couche entièrement connectée. Expliquez\n",
    "son fonctionnement. Qu’est ce que reçoit la couche entièrement connectée ?"
   ]
  },
  {
   "cell_type": "markdown",
   "id": "b50bcb9c",
   "metadata": {},
   "source": [
    "C’est un MLP. Elle reçoit les dernières feature maps en 1 dimension (flatten)."
   ]
  },
  {
   "cell_type": "markdown",
   "id": "87b1e033",
   "metadata": {},
   "source": [
    "7. Pour quelles raisons un réseau de neurones convolutif est-il préféré à un réseau\n",
    "de neurones dense pour une tâche de classification d'images ?"
   ]
  },
  {
   "cell_type": "markdown",
   "id": "9a9c623b",
   "metadata": {},
   "source": [
    "A cause du grand nombre de pixels qui augmentent le nombre de poids."
   ]
  }
 ],
 "metadata": {
  "kernelspec": {
   "display_name": "Python 3 (ipykernel)",
   "language": "python",
   "name": "python3"
  },
  "language_info": {
   "codemirror_mode": {
    "name": "ipython",
    "version": 3
   },
   "file_extension": ".py",
   "mimetype": "text/x-python",
   "name": "python",
   "nbconvert_exporter": "python",
   "pygments_lexer": "ipython3",
   "version": "3.9.13"
  }
 },
 "nbformat": 4,
 "nbformat_minor": 5
}
